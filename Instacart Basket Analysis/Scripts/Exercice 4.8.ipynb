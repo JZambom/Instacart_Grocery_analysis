{
 "cells": [
  {
   "cell_type": "code",
   "execution_count": 1,
   "id": "6cb1c1ac-c948-4753-89f8-e0db925d8bef",
   "metadata": {},
   "outputs": [],
   "source": [
    "import pandas as pd\n",
    "import numpy as np\n",
    "import os\n",
    "\n",
    "# Project folder path\n",
    "project_folder = r'C:\\Users\\Jose Zambom\\OneDrive - Exel Industries\\Data Analysis\\Data Analytics Immersion\\Python Fundamentals for Data Analyst\\csv file\\Prepared Data'\n",
    "\n",
    "# Use os.path.join to create the full file path\n",
    "file_path = os.path.join(project_folder, 'orders_products_updated.pkl')\n",
    "\n",
    "# Load the pickle file\n",
    "orders_products_updated = pd.read_pickle(file_path)"
   ]
  },
  {
   "cell_type": "markdown",
   "id": "0a1ac75f-341e-4b7d-bcfa-8550c0c855ab",
   "metadata": {},
   "source": [
    "# Calculate the mean of 'order_number' grouped by 'department_id' for the entire DataFrame\n",
    "mean_order_by_department = orders_products_updated.groupby('department_id')['order_number'].mean()\n",
    "\n",
    "# Display the result\n",
    "print(mean_order_by_department)"
   ]
  },
  {
   "cell_type": "markdown",
   "id": "bb8dca3b-0b0c-409b-a2dd-5c87d5bd1767",
   "metadata": {},
   "source": [
    "### Analysis of Aggregated Mean for 'order_number' by 'department_id'\n",
    "\n",
    "The results for the entire dataframe may differ from those of the subset because the subset likely represents a smaller, potentially non-representative sample of the entire data. The mean values calculated for the subset may have been influenced by the specific customer behaviors in that subset, whereas the entire dataframe gives a more holistic view of customer orders across all departments."
   ]
  },
  {
   "cell_type": "code",
   "execution_count": 4,
   "id": "900d9bc3-d62a-4ce6-9962-f3a2a74566d7",
   "metadata": {},
   "outputs": [
    {
     "name": "stdout",
     "output_type": "stream",
     "text": [
      "loyalty_flag\n",
      "Regular Customer    428106\n",
      "New Customer        380451\n",
      "Loyal Customer      191443\n",
      "Name: count, dtype: int64\n"
     ]
    }
   ],
   "source": [
    "# Create the 'max_order' column (already done in previous steps)\n",
    "orders_products_updated['max_order'] = orders_products_updated.groupby('user_id')['order_number'].transform('max')\n",
    "\n",
    "# Create a loyalty flag based on the 'max_order'\n",
    "orders_products_updated.loc[orders_products_updated['max_order'] > 40, 'loyalty_flag'] = 'Loyal Customer'\n",
    "orders_products_updated.loc[(orders_products_updated['max_order'] <= 40) & (orders_products_updated['max_order'] > 10), 'loyalty_flag'] = 'Regular Customer'\n",
    "orders_products_updated.loc[orders_products_updated['max_order'] <= 10, 'loyalty_flag'] = 'New Customer'\n",
    "\n",
    "# Check the distribution of loyalty flags\n",
    "print(orders_products_updated['loyalty_flag'].value_counts())"
   ]
  },
  {
   "cell_type": "markdown",
   "id": "77bd4290-50db-48cc-a782-0918f9f09471",
   "metadata": {},
   "source": [
    "### Loyalty Flag Creation\n",
    "\n",
    "We used the maximum `order_number` for each customer to create three loyalty flags:\n",
    "- **Loyal Customer**: Customers with more than 40 orders.\n",
    "- **Regular Customer**: Customers with 11 to 40 orders.\n",
    "- **New Customer**: Customers with 10 or fewer orders."
   ]
  },
  {
   "cell_type": "code",
   "execution_count": 10,
   "id": "7ff3884a-0aba-4c1d-96fb-3a645eff6239",
   "metadata": {},
   "outputs": [
    {
     "name": "stdout",
     "output_type": "stream",
     "text": [
      "                     count       mean         std  min  25%  50%   75%  \\\n",
      "loyalty_flag                                                             \n",
      "Loyal Customer    191443.0  12.646164  542.880464  1.0  4.2  7.4  11.2   \n",
      "New Customer      380451.0  12.912766  567.714462  1.0  4.2  7.4  11.3   \n",
      "Regular Customer  428106.0  11.445406  461.803203  1.0  4.2  7.4  11.3   \n",
      "\n",
      "                      max  \n",
      "loyalty_flag               \n",
      "Loyal Customer    99999.0  \n",
      "New Customer      99999.0  \n",
      "Regular Customer  99999.0  \n"
     ]
    }
   ],
   "source": [
    "# Check the basic statistics of the product prices for each loyalty category\n",
    "loyalty_price_stats = orders_products_updated.groupby('loyalty_flag')['prices'].describe()\n",
    "\n",
    "# Display the statistics\n",
    "print(loyalty_price_stats)"
   ]
  },
  {
   "cell_type": "markdown",
   "id": "204e37ee-13af-400f-b88d-bd6a90d35c09",
   "metadata": {},
   "source": [
    "### Spending Habits of Different Customer Types\n",
    "\n",
    "After grouping by the `loyalty_flag`, we analyzed the basic statistics of the prices. This analysis helps us determine whether loyal customers are spending more or less on average compared to regular and new customers. The results show how the average spending (mean) and spread (standard deviation) of prices vary among the different loyalty groups."
   ]
  },
  {
   "cell_type": "code",
   "execution_count": 11,
   "id": "4a654a43-d132-45d7-bfe8-2748f7d4f495",
   "metadata": {},
   "outputs": [
    {
     "name": "stdout",
     "output_type": "stream",
     "text": [
      "spending_flag\n",
      "Low spender     963854\n",
      "High spender     36146\n",
      "Name: count, dtype: int64\n"
     ]
    }
   ],
   "source": [
    "# Create a 'mean_price' column for each user\n",
    "orders_products_updated['mean_price'] = orders_products_updated.groupby('user_id')['prices'].transform('mean')\n",
    "\n",
    "# Create the spending flag based on the average price\n",
    "orders_products_updated.loc[orders_products_updated['mean_price'] < 10, 'spending_flag'] = 'Low spender'\n",
    "orders_products_updated.loc[orders_products_updated['mean_price'] >= 10, 'spending_flag'] = 'High spender'\n",
    "\n",
    "# Check the distribution of spending flags\n",
    "print(orders_products_updated['spending_flag'].value_counts())\n"
   ]
  },
  {
   "cell_type": "markdown",
   "id": "992b49de-ecfc-48c7-85a3-e78398ee77cb",
   "metadata": {},
   "source": [
    "### Spending Flag Creation\r\n",
    "\r\n",
    "We created a spending flag based on the average product price for each user:\r\n",
    "- **Low spender**: Users whose average purchase price is less than $10.\r\n",
    "- **High spender**: Users whose average purchase price is $10 or higher.\r\n"
   ]
  },
  {
   "cell_type": "code",
   "execution_count": 9,
   "id": "19a62976-50c6-4ba1-b137-8a2adc501e26",
   "metadata": {},
   "outputs": [
    {
     "name": "stdout",
     "output_type": "stream",
     "text": [
      "order_frequency_flag\n",
      "Frequent customer        608117\n",
      "Regular customer         192726\n",
      "Non-frequent customer    155497\n",
      "Name: count, dtype: int64\n"
     ]
    }
   ],
   "source": [
    "# Create a 'median_days_since_prior_order' column for each user\n",
    "orders_products_updated['median_days_since_prior_order'] = orders_products_updated.groupby('user_id')['days_since_prior_order'].transform('median')\n",
    "\n",
    "# Create the order frequency flag based on the median days since prior order\n",
    "orders_products_updated.loc[orders_products_updated['median_days_since_prior_order'] > 20, 'order_frequency_flag'] = 'Non-frequent customer'\n",
    "orders_products_updated.loc[(orders_products_updated['median_days_since_prior_order'] > 10) & (orders_products_updated['median_days_since_prior_order'] <= 20), 'order_frequency_flag'] = 'Regular customer'\n",
    "orders_products_updated.loc[orders_products_updated['median_days_since_prior_order'] <= 10, 'order_frequency_flag'] = 'Frequent customer'\n",
    "\n",
    "# Check the distribution of order frequency flags\n",
    "print(orders_products_updated['order_frequency_flag'].value_counts())\n"
   ]
  },
  {
   "cell_type": "markdown",
   "id": "c732b73e-692a-457a-95bd-fd7640397210",
   "metadata": {},
   "source": [
    "### Order Frequency Flag Creation\r\n",
    "\r\n",
    "We created an order frequency flag based on the median number of days since the last order:\r\n",
    "- **Frequent customer**: Customers whose median days between orders is 10 days or fewer.\r\n",
    "- **Regular customer**: Customers whose median days between orders is between 11 and 20 days.\r\n",
    "- **Non-frequent customer**: Customers whose median days between orders is greater than 20 days.\r\n"
   ]
  },
  {
   "cell_type": "code",
   "execution_count": 12,
   "id": "95c31fb2-dde2-46a5-b1df-93802ab090d7",
   "metadata": {},
   "outputs": [],
   "source": [
    "# Define the file path to the \"Prepared Data\" folder\n",
    "file_path = os.path.join(project_folder, 'orders_products_with_flags.pkl')\n",
    "\n",
    "# Export the DataFrame as a pickle file\n",
    "orders_products_updated.to_pickle(file_path)"
   ]
  },
  {
   "cell_type": "code",
   "execution_count": null,
   "id": "9795c759-68ca-42fc-9d4c-f5f272d74992",
   "metadata": {},
   "outputs": [],
   "source": []
  },
  {
   "cell_type": "code",
   "execution_count": null,
   "id": "c41c2b8d-31fd-4396-b728-7ab25919baf7",
   "metadata": {},
   "outputs": [],
   "source": []
  }
 ],
 "metadata": {
  "kernelspec": {
   "display_name": "Python 3 (ipykernel)",
   "language": "python",
   "name": "python3"
  },
  "language_info": {
   "codemirror_mode": {
    "name": "ipython",
    "version": 3
   },
   "file_extension": ".py",
   "mimetype": "text/x-python",
   "name": "python",
   "nbconvert_exporter": "python",
   "pygments_lexer": "ipython3",
   "version": "3.12.4"
  }
 },
 "nbformat": 4,
 "nbformat_minor": 5
}
