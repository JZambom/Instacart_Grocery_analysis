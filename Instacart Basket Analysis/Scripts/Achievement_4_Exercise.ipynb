{
 "cells": [
  {
   "cell_type": "markdown",
   "id": "5de89d60-7a23-4d32-a09b-68367bfb953b",
   "metadata": {},
   "source": [
    "# Importing Libraries\n"
   ]
  },
  {
   "cell_type": "code",
   "execution_count": null,
   "id": "b26c2ea8-bb1e-48ae-afb0-c9fcf4261e90",
   "metadata": {},
   "outputs": [],
   "source": [
    "# Importing pandas, NumPy, and os libraries\n",
    "import pandas as pd\n",
    "import numpy as np\n",
    "import os"
   ]
  },
  {
   "cell_type": "markdown",
   "id": "8b8dfc58-b112-439a-962c-844877de32bf",
   "metadata": {},
   "source": [
    "# Working with Python Data Types"
   ]
  },
  {
   "cell_type": "code",
   "execution_count": null,
   "id": "afe395ee-43e5-445c-a261-552fedcdf633",
   "metadata": {},
   "outputs": [],
   "source": [
    "# Three ways to reach 100\n",
    "a = 50 + 50\n",
    "b = 200 - 100\n",
    "c = 25 * 4\n",
    "print(a, b, c)"
   ]
  },
  {
   "cell_type": "code",
   "execution_count": null,
   "id": "c816e55f-4aa8-4df3-aeb8-10834bd9104d",
   "metadata": {},
   "outputs": [],
   "source": [
    "# Two floating-point variables\n",
    "x = 10.5\n",
    "y = 2.5\n",
    "result = x / y\n",
    "print(result)"
   ]
  },
  {
   "cell_type": "code",
   "execution_count": null,
   "id": "fcf9fc26-6355-46c9-afa3-6149fd892d67",
   "metadata": {},
   "outputs": [],
   "source": [
    "# Constructing a short word from strings\n",
    "part1 = \"Py\"\n",
    "part2 = \"thon\"\n",
    "word = part1 + part2\n",
    "print(word)"
   ]
  },
  {
   "cell_type": "code",
   "execution_count": null,
   "id": "7a2f890f-407d-4dfe-aa76-8262412688d2",
   "metadata": {},
   "outputs": [],
   "source": [
    "# Constructing two short sentences\n",
    "sentence1 = \"Python \" + \"is \" + \"fun.\"\n",
    "sentence2 = \"I \" + \"love \" + \"coding!\"\n",
    "print(sentence1)\n",
    "print(sentence2)"
   ]
  }
 ],
 "metadata": {
  "kernelspec": {
   "display_name": "Python 3 (ipykernel)",
   "language": "python",
   "name": "python3"
  },
  "language_info": {
   "codemirror_mode": {
    "name": "ipython",
    "version": 3
   },
   "file_extension": ".py",
   "mimetype": "text/x-python",
   "name": "python",
   "nbconvert_exporter": "python",
   "pygments_lexer": "ipython3",
   "version": "3.12.4"
  }
 },
 "nbformat": 4,
 "nbformat_minor": 5
}
