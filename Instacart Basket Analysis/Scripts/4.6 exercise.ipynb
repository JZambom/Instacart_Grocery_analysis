{
 "cells": [
  {
   "cell_type": "code",
   "execution_count": 1,
   "id": "76f03f0d-7645-4d75-8156-31bf0ca60cc4",
   "metadata": {},
   "outputs": [
    {
     "name": "stdout",
     "output_type": "stream",
     "text": [
      "(32640698, 11)\n"
     ]
    }
   ],
   "source": [
    "import pandas as pd\n",
    "\n",
    "# Load the orders_products_combined DataFrame from the pickle file\n",
    "df_merged_large = pd.read_pickle(r'C:\\Users\\Jose Zambom\\OneDrive - Exel Industries\\Data Analysis\\Data Analytics Immersion\\Python Fundamentals for Data Analyst\\csv file\\Prepared Data\\orders_products_combined.pkl')\n",
    "\n",
    "# Check the shape of the imported DataFrame\n",
    "print(df_merged_large.shape)"
   ]
  },
  {
   "cell_type": "code",
   "execution_count": 8,
   "id": "42466b0a-a215-4990-a685-e66a7a2f31e5",
   "metadata": {},
   "outputs": [],
   "source": [
    "# Drop the existing _merge column from df_merged_large (or df_prods_checked if needed)\n",
    "df_merged_large = df_merged_large.drop(columns=['_merge'], errors='ignore')\n",
    "\n",
    "# Now, perform the merge again\n",
    "df_ords_prods_merged = pd.merge(df_merged_large, df_prods_checked, on='product_id', how='inner', indicator=True)"
   ]
  },
  {
   "cell_type": "code",
   "execution_count": 9,
   "id": "4b4f4563-6e54-4af7-837e-91dd98c64888",
   "metadata": {},
   "outputs": [],
   "source": [
    "# Load the cleaned products data\n",
    "df_prods_checked = pd.read_csv(r'C:\\Users\\Jose Zambom\\OneDrive - Exel Industries\\Data Analysis\\Data Analytics Immersion\\Python Fundamentals for Data Analyst\\csv file\\Prepared Data\\products_checked.csv')\n",
    "\n",
    "# Merge the orders_products_combined DataFrame with the cleaned products data\n",
    "df_ords_prods_merged = pd.merge(df_merged_large, df_prods_checked, on='product_id', how='inner', indicator=True)"
   ]
  },
  {
   "cell_type": "code",
   "execution_count": 10,
   "id": "9c67926f-8813-4ccf-8d00-ae6efb507e60",
   "metadata": {},
   "outputs": [
    {
     "name": "stdout",
     "output_type": "stream",
     "text": [
      "   order_id  user_id eval_set  order_number  orders_day_of_week  \\\n",
      "0         2   202279    prior             3                   5   \n",
      "1         2   202279    prior             3                   5   \n",
      "2         2   202279    prior             3                   5   \n",
      "3         2   202279    prior             3                   5   \n",
      "4         2   202279    prior             3                   5   \n",
      "\n",
      "   order_hour_of_day  days_since_prior_order  product_id  add_to_cart_order  \\\n",
      "0                  9                     8.0     33120.0                1.0   \n",
      "1                  9                     8.0     28985.0                2.0   \n",
      "2                  9                     8.0      9327.0                3.0   \n",
      "3                  9                     8.0     45918.0                4.0   \n",
      "4                  9                     8.0     30035.0                5.0   \n",
      "\n",
      "   reordered           product_name  aisle_id  department_id  prices _merge  \n",
      "0        1.0     Organic Egg Whites        86             16    11.3   both  \n",
      "1        1.0  Michigan Organic Kale        83              4    13.4   both  \n",
      "2        0.0          Garlic Powder       104             13     3.6   both  \n",
      "3        1.0         Coconut Butter        19             13     8.4   both  \n",
      "4        0.0      Natural Sweetener        17             13    13.7   both  \n"
     ]
    }
   ],
   "source": [
    "# Check the first few rows of the merged DataFrame\n",
    "print(df_ords_prods_merged.head())"
   ]
  },
  {
   "cell_type": "code",
   "execution_count": 11,
   "id": "b7780551-3977-414e-ae72-533b002a1972",
   "metadata": {},
   "outputs": [
    {
     "name": "stdout",
     "output_type": "stream",
     "text": [
      "(32404859, 15)\n"
     ]
    }
   ],
   "source": [
    "print(df_ords_prods_merged.shape)"
   ]
  },
  {
   "cell_type": "code",
   "execution_count": 13,
   "id": "a2a0f5ea-f72b-4cb2-9fcc-d2363ba531f8",
   "metadata": {},
   "outputs": [
    {
     "name": "stdout",
     "output_type": "stream",
     "text": [
      "_merge\n",
      "both          32404859\n",
      "left_only            0\n",
      "right_only           0\n",
      "Name: count, dtype: int64\n"
     ]
    }
   ],
   "source": [
    "#check the ditribution of the merge results\n",
    "print(df_ords_prods_merged['_merge'].value_counts())"
   ]
  },
  {
   "cell_type": "code",
   "execution_count": 14,
   "id": "2149918b-1a9b-48d1-a78e-40c5fb1aa492",
   "metadata": {},
   "outputs": [],
   "source": [
    "# Export the merged DataFrame as a pickle file\n",
    "df_ords_prods_merged.to_pickle(r'C:\\Users\\Jose Zambom\\OneDrive - Exel Industries\\Data Analysis\\Data Analytics Immersion\\Python Fundamentals for Data Analyst\\csv file\\Prepared Data\\ords_prods_merge.pkl')"
   ]
  },
  {
   "cell_type": "code",
   "execution_count": null,
   "id": "287afa2c-6c1b-4c51-8050-a223dde743c5",
   "metadata": {},
   "outputs": [],
   "source": []
  }
 ],
 "metadata": {
  "kernelspec": {
   "display_name": "Python 3 (ipykernel)",
   "language": "python",
   "name": "python3"
  },
  "language_info": {
   "codemirror_mode": {
    "name": "ipython",
    "version": 3
   },
   "file_extension": ".py",
   "mimetype": "text/x-python",
   "name": "python",
   "nbconvert_exporter": "python",
   "pygments_lexer": "ipython3",
   "version": "3.12.4"
  }
 },
 "nbformat": 4,
 "nbformat_minor": 5
}
